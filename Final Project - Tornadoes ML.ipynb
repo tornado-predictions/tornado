{
 "cells": [
  {
   "cell_type": "code",
   "execution_count": 1,
   "metadata": {},
   "outputs": [],
   "source": [
    "\n",
    "import pandas as pd\n",
    "import numpy as np\n",
    "import matplotlib.pyplot as plt\n",
    "import seaborn as sns"
   ]
  },
  {
   "cell_type": "code",
   "execution_count": 2,
   "metadata": {},
   "outputs": [
    {
     "data": {
      "text/html": [
       "<div>\n",
       "<style scoped>\n",
       "    .dataframe tbody tr th:only-of-type {\n",
       "        vertical-align: middle;\n",
       "    }\n",
       "\n",
       "    .dataframe tbody tr th {\n",
       "        vertical-align: top;\n",
       "    }\n",
       "\n",
       "    .dataframe thead th {\n",
       "        text-align: right;\n",
       "    }\n",
       "</style>\n",
       "<table border=\"1\" class=\"dataframe\">\n",
       "  <thead>\n",
       "    <tr style=\"text-align: right;\">\n",
       "      <th></th>\n",
       "      <th>om</th>\n",
       "      <th>yr</th>\n",
       "      <th>mo</th>\n",
       "      <th>dy</th>\n",
       "      <th>date</th>\n",
       "      <th>time</th>\n",
       "      <th>tz</th>\n",
       "      <th>st</th>\n",
       "      <th>stf</th>\n",
       "      <th>stn</th>\n",
       "      <th>...</th>\n",
       "      <th>fat</th>\n",
       "      <th>loss</th>\n",
       "      <th>closs</th>\n",
       "      <th>slat</th>\n",
       "      <th>slon</th>\n",
       "      <th>elat</th>\n",
       "      <th>elon</th>\n",
       "      <th>len</th>\n",
       "      <th>wid</th>\n",
       "      <th>fc</th>\n",
       "    </tr>\n",
       "  </thead>\n",
       "  <tbody>\n",
       "    <tr>\n",
       "      <th>0</th>\n",
       "      <td>1</td>\n",
       "      <td>1950</td>\n",
       "      <td>1</td>\n",
       "      <td>3</td>\n",
       "      <td>1/3/1950</td>\n",
       "      <td>11:00:00</td>\n",
       "      <td>3</td>\n",
       "      <td>MO</td>\n",
       "      <td>29</td>\n",
       "      <td>1</td>\n",
       "      <td>...</td>\n",
       "      <td>0</td>\n",
       "      <td>6.0</td>\n",
       "      <td>0.0</td>\n",
       "      <td>38.77</td>\n",
       "      <td>-90.22</td>\n",
       "      <td>38.83</td>\n",
       "      <td>-90.03</td>\n",
       "      <td>9.5</td>\n",
       "      <td>150</td>\n",
       "      <td>0</td>\n",
       "    </tr>\n",
       "    <tr>\n",
       "      <th>1</th>\n",
       "      <td>2</td>\n",
       "      <td>1950</td>\n",
       "      <td>1</td>\n",
       "      <td>3</td>\n",
       "      <td>1/3/1950</td>\n",
       "      <td>11:55:00</td>\n",
       "      <td>3</td>\n",
       "      <td>IL</td>\n",
       "      <td>17</td>\n",
       "      <td>2</td>\n",
       "      <td>...</td>\n",
       "      <td>0</td>\n",
       "      <td>5.0</td>\n",
       "      <td>0.0</td>\n",
       "      <td>39.10</td>\n",
       "      <td>-89.30</td>\n",
       "      <td>39.12</td>\n",
       "      <td>-89.23</td>\n",
       "      <td>3.6</td>\n",
       "      <td>130</td>\n",
       "      <td>0</td>\n",
       "    </tr>\n",
       "    <tr>\n",
       "      <th>2</th>\n",
       "      <td>3</td>\n",
       "      <td>1950</td>\n",
       "      <td>1</td>\n",
       "      <td>3</td>\n",
       "      <td>1/3/1950</td>\n",
       "      <td>16:00:00</td>\n",
       "      <td>3</td>\n",
       "      <td>OH</td>\n",
       "      <td>39</td>\n",
       "      <td>1</td>\n",
       "      <td>...</td>\n",
       "      <td>0</td>\n",
       "      <td>4.0</td>\n",
       "      <td>0.0</td>\n",
       "      <td>40.88</td>\n",
       "      <td>-84.58</td>\n",
       "      <td>0.00</td>\n",
       "      <td>0.00</td>\n",
       "      <td>0.1</td>\n",
       "      <td>10</td>\n",
       "      <td>0</td>\n",
       "    </tr>\n",
       "    <tr>\n",
       "      <th>3</th>\n",
       "      <td>4</td>\n",
       "      <td>1950</td>\n",
       "      <td>1</td>\n",
       "      <td>13</td>\n",
       "      <td>1/13/1950</td>\n",
       "      <td>5:25:00</td>\n",
       "      <td>3</td>\n",
       "      <td>AR</td>\n",
       "      <td>5</td>\n",
       "      <td>1</td>\n",
       "      <td>...</td>\n",
       "      <td>1</td>\n",
       "      <td>3.0</td>\n",
       "      <td>0.0</td>\n",
       "      <td>34.40</td>\n",
       "      <td>-94.37</td>\n",
       "      <td>0.00</td>\n",
       "      <td>0.00</td>\n",
       "      <td>0.6</td>\n",
       "      <td>17</td>\n",
       "      <td>0</td>\n",
       "    </tr>\n",
       "    <tr>\n",
       "      <th>4</th>\n",
       "      <td>5</td>\n",
       "      <td>1950</td>\n",
       "      <td>1</td>\n",
       "      <td>25</td>\n",
       "      <td>1/25/1950</td>\n",
       "      <td>19:30:00</td>\n",
       "      <td>3</td>\n",
       "      <td>MO</td>\n",
       "      <td>29</td>\n",
       "      <td>2</td>\n",
       "      <td>...</td>\n",
       "      <td>0</td>\n",
       "      <td>5.0</td>\n",
       "      <td>0.0</td>\n",
       "      <td>37.60</td>\n",
       "      <td>-90.68</td>\n",
       "      <td>37.63</td>\n",
       "      <td>-90.65</td>\n",
       "      <td>2.3</td>\n",
       "      <td>300</td>\n",
       "      <td>0</td>\n",
       "    </tr>\n",
       "  </tbody>\n",
       "</table>\n",
       "<p>5 rows × 22 columns</p>\n",
       "</div>"
      ],
      "text/plain": [
       "   om    yr  mo  dy       date      time  tz  st  stf  stn  ...  fat  loss  \\\n",
       "0   1  1950   1   3   1/3/1950  11:00:00   3  MO   29    1  ...    0   6.0   \n",
       "1   2  1950   1   3   1/3/1950  11:55:00   3  IL   17    2  ...    0   5.0   \n",
       "2   3  1950   1   3   1/3/1950  16:00:00   3  OH   39    1  ...    0   4.0   \n",
       "3   4  1950   1  13  1/13/1950   5:25:00   3  AR    5    1  ...    1   3.0   \n",
       "4   5  1950   1  25  1/25/1950  19:30:00   3  MO   29    2  ...    0   5.0   \n",
       "\n",
       "   closs   slat   slon   elat   elon  len  wid  fc  \n",
       "0    0.0  38.77 -90.22  38.83 -90.03  9.5  150   0  \n",
       "1    0.0  39.10 -89.30  39.12 -89.23  3.6  130   0  \n",
       "2    0.0  40.88 -84.58   0.00   0.00  0.1   10   0  \n",
       "3    0.0  34.40 -94.37   0.00   0.00  0.6   17   0  \n",
       "4    0.0  37.60 -90.68  37.63 -90.65  2.3  300   0  \n",
       "\n",
       "[5 rows x 22 columns]"
      ]
     },
     "execution_count": 2,
     "metadata": {},
     "output_type": "execute_result"
    }
   ],
   "source": [
    "csv_file = \"Tornadoes_SPC_1950to2015.csv\"\n",
    "df = pd.read_csv(csv_file)\n",
    "\n",
    "df.head()\n"
   ]
  },
  {
   "cell_type": "code",
   "execution_count": 4,
   "metadata": {},
   "outputs": [
    {
     "data": {
      "text/plain": [
       "Index(['om', 'yr', 'mo', 'dy', 'date', 'time', 'tz', 'st', 'stf', 'stn', 'mag',\n",
       "       'inj', 'fat', 'loss', 'closs', 'slat', 'slon', 'elat', 'elon', 'len',\n",
       "       'wid', 'fc'],\n",
       "      dtype='object')"
      ]
     },
     "execution_count": 4,
     "metadata": {},
     "output_type": "execute_result"
    }
   ],
   "source": [
    "df.columns"
   ]
  },
  {
   "cell_type": "code",
   "execution_count": 5,
   "metadata": {},
   "outputs": [
    {
     "data": {
      "text/html": [
       "<div>\n",
       "<style scoped>\n",
       "    .dataframe tbody tr th:only-of-type {\n",
       "        vertical-align: middle;\n",
       "    }\n",
       "\n",
       "    .dataframe tbody tr th {\n",
       "        vertical-align: top;\n",
       "    }\n",
       "\n",
       "    .dataframe thead th {\n",
       "        text-align: right;\n",
       "    }\n",
       "</style>\n",
       "<table border=\"1\" class=\"dataframe\">\n",
       "  <thead>\n",
       "    <tr style=\"text-align: right;\">\n",
       "      <th></th>\n",
       "      <th>om</th>\n",
       "      <th>yr</th>\n",
       "      <th>mo</th>\n",
       "      <th>dy</th>\n",
       "      <th>date</th>\n",
       "      <th>time</th>\n",
       "      <th>tz</th>\n",
       "      <th>st</th>\n",
       "      <th>stf</th>\n",
       "      <th>stn</th>\n",
       "      <th>...</th>\n",
       "      <th>fat</th>\n",
       "      <th>loss</th>\n",
       "      <th>closs</th>\n",
       "      <th>slat</th>\n",
       "      <th>slon</th>\n",
       "      <th>elat</th>\n",
       "      <th>elon</th>\n",
       "      <th>len</th>\n",
       "      <th>wid</th>\n",
       "      <th>fc</th>\n",
       "    </tr>\n",
       "  </thead>\n",
       "  <tbody>\n",
       "    <tr>\n",
       "      <th>22878</th>\n",
       "      <td>1</td>\n",
       "      <td>1983</td>\n",
       "      <td>1</td>\n",
       "      <td>29</td>\n",
       "      <td>1/29/1983</td>\n",
       "      <td>22:15:00</td>\n",
       "      <td>3</td>\n",
       "      <td>FL</td>\n",
       "      <td>12</td>\n",
       "      <td>1</td>\n",
       "      <td>...</td>\n",
       "      <td>0</td>\n",
       "      <td>6.0</td>\n",
       "      <td>0.0</td>\n",
       "      <td>30.18</td>\n",
       "      <td>-85.80</td>\n",
       "      <td>0.00</td>\n",
       "      <td>0.00</td>\n",
       "      <td>0.7</td>\n",
       "      <td>30</td>\n",
       "      <td>0</td>\n",
       "    </tr>\n",
       "    <tr>\n",
       "      <th>22879</th>\n",
       "      <td>2</td>\n",
       "      <td>1983</td>\n",
       "      <td>1</td>\n",
       "      <td>31</td>\n",
       "      <td>1/31/1983</td>\n",
       "      <td>9:30:00</td>\n",
       "      <td>3</td>\n",
       "      <td>TX</td>\n",
       "      <td>48</td>\n",
       "      <td>1</td>\n",
       "      <td>...</td>\n",
       "      <td>0</td>\n",
       "      <td>5.0</td>\n",
       "      <td>0.0</td>\n",
       "      <td>29.40</td>\n",
       "      <td>-96.17</td>\n",
       "      <td>29.48</td>\n",
       "      <td>-96.15</td>\n",
       "      <td>5.0</td>\n",
       "      <td>60</td>\n",
       "      <td>0</td>\n",
       "    </tr>\n",
       "    <tr>\n",
       "      <th>22880</th>\n",
       "      <td>3</td>\n",
       "      <td>1983</td>\n",
       "      <td>1</td>\n",
       "      <td>31</td>\n",
       "      <td>1/31/1983</td>\n",
       "      <td>10:00:00</td>\n",
       "      <td>3</td>\n",
       "      <td>TX</td>\n",
       "      <td>48</td>\n",
       "      <td>2</td>\n",
       "      <td>...</td>\n",
       "      <td>0</td>\n",
       "      <td>6.0</td>\n",
       "      <td>0.0</td>\n",
       "      <td>30.17</td>\n",
       "      <td>-95.43</td>\n",
       "      <td>0.00</td>\n",
       "      <td>0.00</td>\n",
       "      <td>5.2</td>\n",
       "      <td>40</td>\n",
       "      <td>0</td>\n",
       "    </tr>\n",
       "    <tr>\n",
       "      <th>22881</th>\n",
       "      <td>4</td>\n",
       "      <td>1983</td>\n",
       "      <td>1</td>\n",
       "      <td>31</td>\n",
       "      <td>1/31/1983</td>\n",
       "      <td>10:15:00</td>\n",
       "      <td>3</td>\n",
       "      <td>TX</td>\n",
       "      <td>48</td>\n",
       "      <td>3</td>\n",
       "      <td>...</td>\n",
       "      <td>0</td>\n",
       "      <td>6.0</td>\n",
       "      <td>0.0</td>\n",
       "      <td>29.78</td>\n",
       "      <td>-96.13</td>\n",
       "      <td>29.83</td>\n",
       "      <td>-96.13</td>\n",
       "      <td>3.0</td>\n",
       "      <td>60</td>\n",
       "      <td>0</td>\n",
       "    </tr>\n",
       "    <tr>\n",
       "      <th>22882</th>\n",
       "      <td>5</td>\n",
       "      <td>1983</td>\n",
       "      <td>1</td>\n",
       "      <td>31</td>\n",
       "      <td>1/31/1983</td>\n",
       "      <td>13:07:00</td>\n",
       "      <td>3</td>\n",
       "      <td>TX</td>\n",
       "      <td>48</td>\n",
       "      <td>4</td>\n",
       "      <td>...</td>\n",
       "      <td>0</td>\n",
       "      <td>5.0</td>\n",
       "      <td>0.0</td>\n",
       "      <td>29.02</td>\n",
       "      <td>-95.95</td>\n",
       "      <td>0.00</td>\n",
       "      <td>0.00</td>\n",
       "      <td>1.0</td>\n",
       "      <td>20</td>\n",
       "      <td>0</td>\n",
       "    </tr>\n",
       "  </tbody>\n",
       "</table>\n",
       "<p>5 rows × 22 columns</p>\n",
       "</div>"
      ],
      "text/plain": [
       "       om    yr  mo  dy       date      time  tz  st  stf  stn  ...  fat  \\\n",
       "22878   1  1983   1  29  1/29/1983  22:15:00   3  FL   12    1  ...    0   \n",
       "22879   2  1983   1  31  1/31/1983   9:30:00   3  TX   48    1  ...    0   \n",
       "22880   3  1983   1  31  1/31/1983  10:00:00   3  TX   48    2  ...    0   \n",
       "22881   4  1983   1  31  1/31/1983  10:15:00   3  TX   48    3  ...    0   \n",
       "22882   5  1983   1  31  1/31/1983  13:07:00   3  TX   48    4  ...    0   \n",
       "\n",
       "       loss  closs   slat   slon   elat   elon  len  wid  fc  \n",
       "22878   6.0    0.0  30.18 -85.80   0.00   0.00  0.7   30   0  \n",
       "22879   5.0    0.0  29.40 -96.17  29.48 -96.15  5.0   60   0  \n",
       "22880   6.0    0.0  30.17 -95.43   0.00   0.00  5.2   40   0  \n",
       "22881   6.0    0.0  29.78 -96.13  29.83 -96.13  3.0   60   0  \n",
       "22882   5.0    0.0  29.02 -95.95   0.00   0.00  1.0   20   0  \n",
       "\n",
       "[5 rows x 22 columns]"
      ]
     },
     "execution_count": 5,
     "metadata": {},
     "output_type": "execute_result"
    }
   ],
   "source": [
    "new_df = df.loc[df.yr >= 1983, :]\n",
    "new_df.head()"
   ]
  },
  {
   "cell_type": "code",
   "execution_count": null,
   "metadata": {},
   "outputs": [],
   "source": [
    "# new_df.dtypes\n",
    "# df1 = new_df[[\n",
    "# 'yr',\n",
    "# 'mo',\n",
    "# 'date',\n",
    "# 'st',\n",
    "# 'mag',\n",
    "# 'inj',\n",
    "# 'fat',\n",
    "# 'loss',\n",
    "# 'closs',\n",
    "# 'len',\n",
    "# 'wid',\n",
    "# 'slat',\n",
    "# 'slon',\n",
    "# 'location']]\n",
    "# df1.head()"
   ]
  },
  {
   "cell_type": "code",
   "execution_count": 6,
   "metadata": {},
   "outputs": [
    {
     "data": {
      "text/html": [
       "<div>\n",
       "<style scoped>\n",
       "    .dataframe tbody tr th:only-of-type {\n",
       "        vertical-align: middle;\n",
       "    }\n",
       "\n",
       "    .dataframe tbody tr th {\n",
       "        vertical-align: top;\n",
       "    }\n",
       "\n",
       "    .dataframe thead th {\n",
       "        text-align: right;\n",
       "    }\n",
       "</style>\n",
       "<table border=\"1\" class=\"dataframe\">\n",
       "  <thead>\n",
       "    <tr style=\"text-align: right;\">\n",
       "      <th></th>\n",
       "      <th>om</th>\n",
       "      <th>yr</th>\n",
       "      <th>mo</th>\n",
       "      <th>dy</th>\n",
       "      <th>date</th>\n",
       "      <th>time</th>\n",
       "      <th>tz</th>\n",
       "      <th>st</th>\n",
       "      <th>stf</th>\n",
       "      <th>stn</th>\n",
       "      <th>...</th>\n",
       "      <th>fat</th>\n",
       "      <th>loss</th>\n",
       "      <th>closs</th>\n",
       "      <th>slat</th>\n",
       "      <th>slon</th>\n",
       "      <th>elat</th>\n",
       "      <th>elon</th>\n",
       "      <th>len</th>\n",
       "      <th>wid</th>\n",
       "      <th>fc</th>\n",
       "    </tr>\n",
       "  </thead>\n",
       "  <tbody>\n",
       "    <tr>\n",
       "      <th>0</th>\n",
       "      <td>1</td>\n",
       "      <td>1950</td>\n",
       "      <td>1</td>\n",
       "      <td>3</td>\n",
       "      <td>1/3/1950</td>\n",
       "      <td>11:00:00</td>\n",
       "      <td>3</td>\n",
       "      <td>MO</td>\n",
       "      <td>29</td>\n",
       "      <td>1</td>\n",
       "      <td>...</td>\n",
       "      <td>0</td>\n",
       "      <td>6.0</td>\n",
       "      <td>0.0</td>\n",
       "      <td>38.77</td>\n",
       "      <td>-90.22</td>\n",
       "      <td>38.83</td>\n",
       "      <td>-90.03</td>\n",
       "      <td>9.5</td>\n",
       "      <td>150</td>\n",
       "      <td>0</td>\n",
       "    </tr>\n",
       "    <tr>\n",
       "      <th>1</th>\n",
       "      <td>2</td>\n",
       "      <td>1950</td>\n",
       "      <td>1</td>\n",
       "      <td>3</td>\n",
       "      <td>1/3/1950</td>\n",
       "      <td>11:55:00</td>\n",
       "      <td>3</td>\n",
       "      <td>IL</td>\n",
       "      <td>17</td>\n",
       "      <td>2</td>\n",
       "      <td>...</td>\n",
       "      <td>0</td>\n",
       "      <td>5.0</td>\n",
       "      <td>0.0</td>\n",
       "      <td>39.10</td>\n",
       "      <td>-89.30</td>\n",
       "      <td>39.12</td>\n",
       "      <td>-89.23</td>\n",
       "      <td>3.6</td>\n",
       "      <td>130</td>\n",
       "      <td>0</td>\n",
       "    </tr>\n",
       "    <tr>\n",
       "      <th>2</th>\n",
       "      <td>3</td>\n",
       "      <td>1950</td>\n",
       "      <td>1</td>\n",
       "      <td>3</td>\n",
       "      <td>1/3/1950</td>\n",
       "      <td>16:00:00</td>\n",
       "      <td>3</td>\n",
       "      <td>OH</td>\n",
       "      <td>39</td>\n",
       "      <td>1</td>\n",
       "      <td>...</td>\n",
       "      <td>0</td>\n",
       "      <td>4.0</td>\n",
       "      <td>0.0</td>\n",
       "      <td>40.88</td>\n",
       "      <td>-84.58</td>\n",
       "      <td>0.00</td>\n",
       "      <td>0.00</td>\n",
       "      <td>0.1</td>\n",
       "      <td>10</td>\n",
       "      <td>0</td>\n",
       "    </tr>\n",
       "    <tr>\n",
       "      <th>3</th>\n",
       "      <td>4</td>\n",
       "      <td>1950</td>\n",
       "      <td>1</td>\n",
       "      <td>13</td>\n",
       "      <td>1/13/1950</td>\n",
       "      <td>5:25:00</td>\n",
       "      <td>3</td>\n",
       "      <td>AR</td>\n",
       "      <td>5</td>\n",
       "      <td>1</td>\n",
       "      <td>...</td>\n",
       "      <td>1</td>\n",
       "      <td>3.0</td>\n",
       "      <td>0.0</td>\n",
       "      <td>34.40</td>\n",
       "      <td>-94.37</td>\n",
       "      <td>0.00</td>\n",
       "      <td>0.00</td>\n",
       "      <td>0.6</td>\n",
       "      <td>17</td>\n",
       "      <td>0</td>\n",
       "    </tr>\n",
       "    <tr>\n",
       "      <th>4</th>\n",
       "      <td>5</td>\n",
       "      <td>1950</td>\n",
       "      <td>1</td>\n",
       "      <td>25</td>\n",
       "      <td>1/25/1950</td>\n",
       "      <td>19:30:00</td>\n",
       "      <td>3</td>\n",
       "      <td>MO</td>\n",
       "      <td>29</td>\n",
       "      <td>2</td>\n",
       "      <td>...</td>\n",
       "      <td>0</td>\n",
       "      <td>5.0</td>\n",
       "      <td>0.0</td>\n",
       "      <td>37.60</td>\n",
       "      <td>-90.68</td>\n",
       "      <td>37.63</td>\n",
       "      <td>-90.65</td>\n",
       "      <td>2.3</td>\n",
       "      <td>300</td>\n",
       "      <td>0</td>\n",
       "    </tr>\n",
       "  </tbody>\n",
       "</table>\n",
       "<p>5 rows × 22 columns</p>\n",
       "</div>"
      ],
      "text/plain": [
       "   om    yr  mo  dy       date      time  tz  st  stf  stn  ...  fat  loss  \\\n",
       "0   1  1950   1   3   1/3/1950  11:00:00   3  MO   29    1  ...    0   6.0   \n",
       "1   2  1950   1   3   1/3/1950  11:55:00   3  IL   17    2  ...    0   5.0   \n",
       "2   3  1950   1   3   1/3/1950  16:00:00   3  OH   39    1  ...    0   4.0   \n",
       "3   4  1950   1  13  1/13/1950   5:25:00   3  AR    5    1  ...    1   3.0   \n",
       "4   5  1950   1  25  1/25/1950  19:30:00   3  MO   29    2  ...    0   5.0   \n",
       "\n",
       "   closs   slat   slon   elat   elon  len  wid  fc  \n",
       "0    0.0  38.77 -90.22  38.83 -90.03  9.5  150   0  \n",
       "1    0.0  39.10 -89.30  39.12 -89.23  3.6  130   0  \n",
       "2    0.0  40.88 -84.58   0.00   0.00  0.1   10   0  \n",
       "3    0.0  34.40 -94.37   0.00   0.00  0.6   17   0  \n",
       "4    0.0  37.60 -90.68  37.63 -90.65  2.3  300   0  \n",
       "\n",
       "[5 rows x 22 columns]"
      ]
     },
     "execution_count": 6,
     "metadata": {},
     "output_type": "execute_result"
    }
   ],
   "source": [
    "df1 = df.copy()\n",
    "\n",
    "df1.reset_index(inplace = True, drop = True)\n",
    "df1.head()"
   ]
  },
  {
   "cell_type": "code",
   "execution_count": 7,
   "metadata": {},
   "outputs": [
    {
     "data": {
      "text/html": [
       "<div>\n",
       "<style scoped>\n",
       "    .dataframe tbody tr th:only-of-type {\n",
       "        vertical-align: middle;\n",
       "    }\n",
       "\n",
       "    .dataframe tbody tr th {\n",
       "        vertical-align: top;\n",
       "    }\n",
       "\n",
       "    .dataframe thead th {\n",
       "        text-align: right;\n",
       "    }\n",
       "</style>\n",
       "<table border=\"1\" class=\"dataframe\">\n",
       "  <thead>\n",
       "    <tr style=\"text-align: right;\">\n",
       "      <th></th>\n",
       "      <th>StName</th>\n",
       "      <th>st</th>\n",
       "      <th>StNameAgain</th>\n",
       "    </tr>\n",
       "  </thead>\n",
       "  <tbody>\n",
       "    <tr>\n",
       "      <th>0</th>\n",
       "      <td>Alabama</td>\n",
       "      <td>AL</td>\n",
       "      <td>Alabama</td>\n",
       "    </tr>\n",
       "    <tr>\n",
       "      <th>1</th>\n",
       "      <td>Alaska</td>\n",
       "      <td>AK</td>\n",
       "      <td>Alaska</td>\n",
       "    </tr>\n",
       "    <tr>\n",
       "      <th>2</th>\n",
       "      <td>Arizona</td>\n",
       "      <td>AZ</td>\n",
       "      <td>Arizona</td>\n",
       "    </tr>\n",
       "    <tr>\n",
       "      <th>3</th>\n",
       "      <td>Arkansas</td>\n",
       "      <td>AR</td>\n",
       "      <td>Arkansas</td>\n",
       "    </tr>\n",
       "    <tr>\n",
       "      <th>4</th>\n",
       "      <td>California</td>\n",
       "      <td>CA</td>\n",
       "      <td>California</td>\n",
       "    </tr>\n",
       "  </tbody>\n",
       "</table>\n",
       "</div>"
      ],
      "text/plain": [
       "       StName  st StNameAgain\n",
       "0     Alabama  AL     Alabama\n",
       "1      Alaska  AK      Alaska\n",
       "2     Arizona  AZ     Arizona\n",
       "3    Arkansas  AR    Arkansas\n",
       "4  California  CA  California"
      ]
     },
     "execution_count": 7,
     "metadata": {},
     "output_type": "execute_result"
    }
   ],
   "source": [
    "data = {'StName':['Alabama',\n",
    "'Alaska',\n",
    "'Arizona',\n",
    "'Arkansas',\n",
    "'California',\n",
    "'Colorado',\n",
    "'Connecticut',\n",
    "'Delaware',\n",
    "'Florida',\n",
    "'Georgia',\n",
    "'Hawaii',\n",
    "'Idaho',\n",
    "'Illinois',\n",
    "'Indiana',\n",
    "'Iowa',\n",
    "'Kansas',\n",
    "'Kentucky',\n",
    "'Louisiana',\n",
    "'Maine',\n",
    "'Maryland',\n",
    "'Massachusetts',\n",
    "'Michigan',\n",
    "'Minnesota',\n",
    "'Mississippi',\n",
    "'Missouri',\n",
    "'Montana',\n",
    "'Nebraska',\n",
    "'Nevada',\n",
    "'New Hampshire',\n",
    "'New Jersey',\n",
    "'New Mexico',\n",
    "'New York',\n",
    "'North Carolina',\n",
    "'North Dakota',\n",
    "'Ohio',\n",
    "'Oklahoma',\n",
    "'Oregon',\n",
    "'Pennsylvania',\n",
    "'Rhode Island',\n",
    "'South Carolina',\n",
    "'South Dakota',\n",
    "'Tennessee',\n",
    "'Texas',\n",
    "'Utah',\n",
    "'Vermont',\n",
    "'Virginia',\n",
    "'Washington',\n",
    "'West Virginia',\n",
    "'Wisconsin',\n",
    "'Wyoming']}\n",
    "\n",
    "df = pd.DataFrame(data)\n",
    "cw_location = 'http://app02.clerk.org/menu/ccis/Help/CCIS%20Codes/'\n",
    "cw_filename = 'state_codes.html'\n",
    "\n",
    "states = pd.read_html(cw_location + cw_filename)[0]\n",
    "state_code_map = dict(zip(states['Description'], \n",
    "                          states['Code']))\n",
    "df['StAbbr'] = df['StName'].map(state_code_map)\n",
    "code_state_map = dict(zip(states['Code'],\n",
    "                          states['Description']))\n",
    "df['StNameAgain'] = df['StAbbr'].map(code_state_map)\n",
    "df\n",
    "df = df.rename(columns={'stName': 'State_Name', 'StAbbr': 'st'})\n",
    "df.head()"
   ]
  },
  {
   "cell_type": "code",
   "execution_count": 8,
   "metadata": {},
   "outputs": [
    {
     "data": {
      "text/html": [
       "<div>\n",
       "<style scoped>\n",
       "    .dataframe tbody tr th:only-of-type {\n",
       "        vertical-align: middle;\n",
       "    }\n",
       "\n",
       "    .dataframe tbody tr th {\n",
       "        vertical-align: top;\n",
       "    }\n",
       "\n",
       "    .dataframe thead th {\n",
       "        text-align: right;\n",
       "    }\n",
       "</style>\n",
       "<table border=\"1\" class=\"dataframe\">\n",
       "  <thead>\n",
       "    <tr style=\"text-align: right;\">\n",
       "      <th></th>\n",
       "      <th>om</th>\n",
       "      <th>yr</th>\n",
       "      <th>mo</th>\n",
       "      <th>dy</th>\n",
       "      <th>date</th>\n",
       "      <th>time</th>\n",
       "      <th>tz</th>\n",
       "      <th>st</th>\n",
       "      <th>stf</th>\n",
       "      <th>stn</th>\n",
       "      <th>...</th>\n",
       "      <th>closs</th>\n",
       "      <th>slat</th>\n",
       "      <th>slon</th>\n",
       "      <th>elat</th>\n",
       "      <th>elon</th>\n",
       "      <th>len</th>\n",
       "      <th>wid</th>\n",
       "      <th>fc</th>\n",
       "      <th>StName</th>\n",
       "      <th>StNameAgain</th>\n",
       "    </tr>\n",
       "  </thead>\n",
       "  <tbody>\n",
       "    <tr>\n",
       "      <th>0</th>\n",
       "      <td>1</td>\n",
       "      <td>1950</td>\n",
       "      <td>1</td>\n",
       "      <td>3</td>\n",
       "      <td>1/3/1950</td>\n",
       "      <td>11:00:00</td>\n",
       "      <td>3</td>\n",
       "      <td>MO</td>\n",
       "      <td>29</td>\n",
       "      <td>1</td>\n",
       "      <td>...</td>\n",
       "      <td>0.0</td>\n",
       "      <td>38.77</td>\n",
       "      <td>-90.22</td>\n",
       "      <td>38.83</td>\n",
       "      <td>-90.03</td>\n",
       "      <td>9.5</td>\n",
       "      <td>150</td>\n",
       "      <td>0</td>\n",
       "      <td>Missouri</td>\n",
       "      <td>Missouri</td>\n",
       "    </tr>\n",
       "    <tr>\n",
       "      <th>1</th>\n",
       "      <td>2</td>\n",
       "      <td>1950</td>\n",
       "      <td>1</td>\n",
       "      <td>3</td>\n",
       "      <td>1/3/1950</td>\n",
       "      <td>11:55:00</td>\n",
       "      <td>3</td>\n",
       "      <td>IL</td>\n",
       "      <td>17</td>\n",
       "      <td>2</td>\n",
       "      <td>...</td>\n",
       "      <td>0.0</td>\n",
       "      <td>39.10</td>\n",
       "      <td>-89.30</td>\n",
       "      <td>39.12</td>\n",
       "      <td>-89.23</td>\n",
       "      <td>3.6</td>\n",
       "      <td>130</td>\n",
       "      <td>0</td>\n",
       "      <td>Illinois</td>\n",
       "      <td>Illinois</td>\n",
       "    </tr>\n",
       "    <tr>\n",
       "      <th>2</th>\n",
       "      <td>3</td>\n",
       "      <td>1950</td>\n",
       "      <td>1</td>\n",
       "      <td>3</td>\n",
       "      <td>1/3/1950</td>\n",
       "      <td>16:00:00</td>\n",
       "      <td>3</td>\n",
       "      <td>OH</td>\n",
       "      <td>39</td>\n",
       "      <td>1</td>\n",
       "      <td>...</td>\n",
       "      <td>0.0</td>\n",
       "      <td>40.88</td>\n",
       "      <td>-84.58</td>\n",
       "      <td>0.00</td>\n",
       "      <td>0.00</td>\n",
       "      <td>0.1</td>\n",
       "      <td>10</td>\n",
       "      <td>0</td>\n",
       "      <td>Ohio</td>\n",
       "      <td>Ohio</td>\n",
       "    </tr>\n",
       "    <tr>\n",
       "      <th>3</th>\n",
       "      <td>4</td>\n",
       "      <td>1950</td>\n",
       "      <td>1</td>\n",
       "      <td>13</td>\n",
       "      <td>1/13/1950</td>\n",
       "      <td>5:25:00</td>\n",
       "      <td>3</td>\n",
       "      <td>AR</td>\n",
       "      <td>5</td>\n",
       "      <td>1</td>\n",
       "      <td>...</td>\n",
       "      <td>0.0</td>\n",
       "      <td>34.40</td>\n",
       "      <td>-94.37</td>\n",
       "      <td>0.00</td>\n",
       "      <td>0.00</td>\n",
       "      <td>0.6</td>\n",
       "      <td>17</td>\n",
       "      <td>0</td>\n",
       "      <td>Arkansas</td>\n",
       "      <td>Arkansas</td>\n",
       "    </tr>\n",
       "    <tr>\n",
       "      <th>4</th>\n",
       "      <td>5</td>\n",
       "      <td>1950</td>\n",
       "      <td>1</td>\n",
       "      <td>25</td>\n",
       "      <td>1/25/1950</td>\n",
       "      <td>19:30:00</td>\n",
       "      <td>3</td>\n",
       "      <td>MO</td>\n",
       "      <td>29</td>\n",
       "      <td>2</td>\n",
       "      <td>...</td>\n",
       "      <td>0.0</td>\n",
       "      <td>37.60</td>\n",
       "      <td>-90.68</td>\n",
       "      <td>37.63</td>\n",
       "      <td>-90.65</td>\n",
       "      <td>2.3</td>\n",
       "      <td>300</td>\n",
       "      <td>0</td>\n",
       "      <td>Missouri</td>\n",
       "      <td>Missouri</td>\n",
       "    </tr>\n",
       "  </tbody>\n",
       "</table>\n",
       "<p>5 rows × 24 columns</p>\n",
       "</div>"
      ],
      "text/plain": [
       "   om    yr  mo  dy       date      time  tz  st  stf  stn  ...  closs   slat  \\\n",
       "0   1  1950   1   3   1/3/1950  11:00:00   3  MO   29    1  ...    0.0  38.77   \n",
       "1   2  1950   1   3   1/3/1950  11:55:00   3  IL   17    2  ...    0.0  39.10   \n",
       "2   3  1950   1   3   1/3/1950  16:00:00   3  OH   39    1  ...    0.0  40.88   \n",
       "3   4  1950   1  13  1/13/1950   5:25:00   3  AR    5    1  ...    0.0  34.40   \n",
       "4   5  1950   1  25  1/25/1950  19:30:00   3  MO   29    2  ...    0.0  37.60   \n",
       "\n",
       "    slon   elat   elon  len  wid  fc    StName  StNameAgain  \n",
       "0 -90.22  38.83 -90.03  9.5  150   0  Missouri     Missouri  \n",
       "1 -89.30  39.12 -89.23  3.6  130   0  Illinois     Illinois  \n",
       "2 -84.58   0.00   0.00  0.1   10   0      Ohio         Ohio  \n",
       "3 -94.37   0.00   0.00  0.6   17   0  Arkansas     Arkansas  \n",
       "4 -90.68  37.63 -90.65  2.3  300   0  Missouri     Missouri  \n",
       "\n",
       "[5 rows x 24 columns]"
      ]
     },
     "execution_count": 8,
     "metadata": {},
     "output_type": "execute_result"
    }
   ],
   "source": [
    "new_df2 = pd.merge(df1, df, on='st', how='left')\n",
    "new_df2.head()\n",
    "\n",
    "# df3 = new_df2[[\n",
    "# 'yr',\n",
    "# 'mo',\n",
    "# 'date',\n",
    "# 'st',\n",
    "# 'StName',\n",
    "# 'mag',\n",
    "# 'inj',\n",
    "# 'fat',\n",
    "# 'loss',\n",
    "# 'closs',\n",
    "# 'len',\n",
    "# 'wid',\n",
    "# 'slat',\n",
    "# 'slon',\n",
    "# 'location']]\n",
    "# df3.head()"
   ]
  },
  {
   "cell_type": "code",
   "execution_count": 10,
   "metadata": {},
   "outputs": [
    {
     "data": {
      "text/plain": [
       "0    27933\n",
       "1    20221\n",
       "2     8924\n",
       "3     2412\n",
       "4      565\n",
       "5       59\n",
       "Name: mag, dtype: int64"
      ]
     },
     "execution_count": 10,
     "metadata": {},
     "output_type": "execute_result"
    }
   ],
   "source": [
    "df_clean = new_df2.copy()\n",
    "df_clean[\"mag\"].value_counts()"
   ]
  },
  {
   "cell_type": "code",
   "execution_count": 11,
   "metadata": {},
   "outputs": [
    {
     "data": {
      "text/html": [
       "<div>\n",
       "<style scoped>\n",
       "    .dataframe tbody tr th:only-of-type {\n",
       "        vertical-align: middle;\n",
       "    }\n",
       "\n",
       "    .dataframe tbody tr th {\n",
       "        vertical-align: top;\n",
       "    }\n",
       "\n",
       "    .dataframe thead th {\n",
       "        text-align: right;\n",
       "    }\n",
       "</style>\n",
       "<table border=\"1\" class=\"dataframe\">\n",
       "  <thead>\n",
       "    <tr style=\"text-align: right;\">\n",
       "      <th></th>\n",
       "      <th>om</th>\n",
       "      <th>yr</th>\n",
       "      <th>mo</th>\n",
       "      <th>dy</th>\n",
       "      <th>date</th>\n",
       "      <th>time</th>\n",
       "      <th>tz</th>\n",
       "      <th>st</th>\n",
       "      <th>stf</th>\n",
       "      <th>stn</th>\n",
       "      <th>...</th>\n",
       "      <th>slat</th>\n",
       "      <th>slon</th>\n",
       "      <th>elat</th>\n",
       "      <th>elon</th>\n",
       "      <th>len</th>\n",
       "      <th>wid</th>\n",
       "      <th>fc</th>\n",
       "      <th>StName</th>\n",
       "      <th>StNameAgain</th>\n",
       "      <th>adjusted magnitude</th>\n",
       "    </tr>\n",
       "  </thead>\n",
       "  <tbody>\n",
       "    <tr>\n",
       "      <th>0</th>\n",
       "      <td>1</td>\n",
       "      <td>1950</td>\n",
       "      <td>1</td>\n",
       "      <td>3</td>\n",
       "      <td>1/3/1950</td>\n",
       "      <td>11:00:00</td>\n",
       "      <td>3</td>\n",
       "      <td>MO</td>\n",
       "      <td>29</td>\n",
       "      <td>1</td>\n",
       "      <td>...</td>\n",
       "      <td>38.77</td>\n",
       "      <td>-90.22</td>\n",
       "      <td>38.83</td>\n",
       "      <td>-90.03</td>\n",
       "      <td>9.5</td>\n",
       "      <td>150</td>\n",
       "      <td>0</td>\n",
       "      <td>Missouri</td>\n",
       "      <td>Missouri</td>\n",
       "      <td>2</td>\n",
       "    </tr>\n",
       "    <tr>\n",
       "      <th>1</th>\n",
       "      <td>2</td>\n",
       "      <td>1950</td>\n",
       "      <td>1</td>\n",
       "      <td>3</td>\n",
       "      <td>1/3/1950</td>\n",
       "      <td>11:55:00</td>\n",
       "      <td>3</td>\n",
       "      <td>IL</td>\n",
       "      <td>17</td>\n",
       "      <td>2</td>\n",
       "      <td>...</td>\n",
       "      <td>39.10</td>\n",
       "      <td>-89.30</td>\n",
       "      <td>39.12</td>\n",
       "      <td>-89.23</td>\n",
       "      <td>3.6</td>\n",
       "      <td>130</td>\n",
       "      <td>0</td>\n",
       "      <td>Illinois</td>\n",
       "      <td>Illinois</td>\n",
       "      <td>2</td>\n",
       "    </tr>\n",
       "    <tr>\n",
       "      <th>2</th>\n",
       "      <td>3</td>\n",
       "      <td>1950</td>\n",
       "      <td>1</td>\n",
       "      <td>3</td>\n",
       "      <td>1/3/1950</td>\n",
       "      <td>16:00:00</td>\n",
       "      <td>3</td>\n",
       "      <td>OH</td>\n",
       "      <td>39</td>\n",
       "      <td>1</td>\n",
       "      <td>...</td>\n",
       "      <td>40.88</td>\n",
       "      <td>-84.58</td>\n",
       "      <td>0.00</td>\n",
       "      <td>0.00</td>\n",
       "      <td>0.1</td>\n",
       "      <td>10</td>\n",
       "      <td>0</td>\n",
       "      <td>Ohio</td>\n",
       "      <td>Ohio</td>\n",
       "      <td>1</td>\n",
       "    </tr>\n",
       "    <tr>\n",
       "      <th>3</th>\n",
       "      <td>4</td>\n",
       "      <td>1950</td>\n",
       "      <td>1</td>\n",
       "      <td>13</td>\n",
       "      <td>1/13/1950</td>\n",
       "      <td>5:25:00</td>\n",
       "      <td>3</td>\n",
       "      <td>AR</td>\n",
       "      <td>5</td>\n",
       "      <td>1</td>\n",
       "      <td>...</td>\n",
       "      <td>34.40</td>\n",
       "      <td>-94.37</td>\n",
       "      <td>0.00</td>\n",
       "      <td>0.00</td>\n",
       "      <td>0.6</td>\n",
       "      <td>17</td>\n",
       "      <td>0</td>\n",
       "      <td>Arkansas</td>\n",
       "      <td>Arkansas</td>\n",
       "      <td>2</td>\n",
       "    </tr>\n",
       "    <tr>\n",
       "      <th>4</th>\n",
       "      <td>5</td>\n",
       "      <td>1950</td>\n",
       "      <td>1</td>\n",
       "      <td>25</td>\n",
       "      <td>1/25/1950</td>\n",
       "      <td>19:30:00</td>\n",
       "      <td>3</td>\n",
       "      <td>MO</td>\n",
       "      <td>29</td>\n",
       "      <td>2</td>\n",
       "      <td>...</td>\n",
       "      <td>37.60</td>\n",
       "      <td>-90.68</td>\n",
       "      <td>37.63</td>\n",
       "      <td>-90.65</td>\n",
       "      <td>2.3</td>\n",
       "      <td>300</td>\n",
       "      <td>0</td>\n",
       "      <td>Missouri</td>\n",
       "      <td>Missouri</td>\n",
       "      <td>2</td>\n",
       "    </tr>\n",
       "  </tbody>\n",
       "</table>\n",
       "<p>5 rows × 25 columns</p>\n",
       "</div>"
      ],
      "text/plain": [
       "   om    yr  mo  dy       date      time  tz  st  stf  stn  ...   slat   slon  \\\n",
       "0   1  1950   1   3   1/3/1950  11:00:00   3  MO   29    1  ...  38.77 -90.22   \n",
       "1   2  1950   1   3   1/3/1950  11:55:00   3  IL   17    2  ...  39.10 -89.30   \n",
       "2   3  1950   1   3   1/3/1950  16:00:00   3  OH   39    1  ...  40.88 -84.58   \n",
       "3   4  1950   1  13  1/13/1950   5:25:00   3  AR    5    1  ...  34.40 -94.37   \n",
       "4   5  1950   1  25  1/25/1950  19:30:00   3  MO   29    2  ...  37.60 -90.68   \n",
       "\n",
       "    elat   elon  len  wid  fc    StName  StNameAgain  adjusted magnitude  \n",
       "0  38.83 -90.03  9.5  150   0  Missouri     Missouri                   2  \n",
       "1  39.12 -89.23  3.6  130   0  Illinois     Illinois                   2  \n",
       "2   0.00   0.00  0.1   10   0      Ohio         Ohio                   1  \n",
       "3   0.00   0.00  0.6   17   0  Arkansas     Arkansas                   2  \n",
       "4  37.63 -90.65  2.3  300   0  Missouri     Missouri                   2  \n",
       "\n",
       "[5 rows x 25 columns]"
      ]
     },
     "execution_count": 11,
     "metadata": {},
     "output_type": "execute_result"
    }
   ],
   "source": [
    "df_clean['adjusted magnitude'] = df_clean['mag']\n",
    "df_clean = df_clean.replace({'adjusted magnitude': {3: 2, 4: 2, 5:2}})\n",
    "df_clean.head()"
   ]
  },
  {
   "cell_type": "code",
   "execution_count": null,
   "metadata": {},
   "outputs": [],
   "source": [
    "# # convet loss to whole numbers\n",
    "# df_clean[\"loss\"] = df_clean[\"loss\"] * 1000000"
   ]
  },
  {
   "cell_type": "code",
   "execution_count": 12,
   "metadata": {},
   "outputs": [
    {
     "data": {
      "text/html": [
       "<div>\n",
       "<style scoped>\n",
       "    .dataframe tbody tr th:only-of-type {\n",
       "        vertical-align: middle;\n",
       "    }\n",
       "\n",
       "    .dataframe tbody tr th {\n",
       "        vertical-align: top;\n",
       "    }\n",
       "\n",
       "    .dataframe thead th {\n",
       "        text-align: right;\n",
       "    }\n",
       "</style>\n",
       "<table border=\"1\" class=\"dataframe\">\n",
       "  <thead>\n",
       "    <tr style=\"text-align: right;\">\n",
       "      <th></th>\n",
       "      <th>om</th>\n",
       "      <th>yr</th>\n",
       "      <th>mo</th>\n",
       "      <th>dy</th>\n",
       "      <th>date</th>\n",
       "      <th>time</th>\n",
       "      <th>tz</th>\n",
       "      <th>st</th>\n",
       "      <th>stf</th>\n",
       "      <th>stn</th>\n",
       "      <th>...</th>\n",
       "      <th>slon</th>\n",
       "      <th>elat</th>\n",
       "      <th>elon</th>\n",
       "      <th>len</th>\n",
       "      <th>wid</th>\n",
       "      <th>fc</th>\n",
       "      <th>StName</th>\n",
       "      <th>StNameAgain</th>\n",
       "      <th>adjusted magnitude</th>\n",
       "      <th>casualty</th>\n",
       "    </tr>\n",
       "  </thead>\n",
       "  <tbody>\n",
       "    <tr>\n",
       "      <th>0</th>\n",
       "      <td>1</td>\n",
       "      <td>1950</td>\n",
       "      <td>1</td>\n",
       "      <td>3</td>\n",
       "      <td>1/3/1950</td>\n",
       "      <td>11:00:00</td>\n",
       "      <td>3</td>\n",
       "      <td>MO</td>\n",
       "      <td>29</td>\n",
       "      <td>1</td>\n",
       "      <td>...</td>\n",
       "      <td>-90.22</td>\n",
       "      <td>38.83</td>\n",
       "      <td>-90.03</td>\n",
       "      <td>9.5</td>\n",
       "      <td>150</td>\n",
       "      <td>0</td>\n",
       "      <td>Missouri</td>\n",
       "      <td>Missouri</td>\n",
       "      <td>2</td>\n",
       "      <td>3</td>\n",
       "    </tr>\n",
       "    <tr>\n",
       "      <th>1</th>\n",
       "      <td>2</td>\n",
       "      <td>1950</td>\n",
       "      <td>1</td>\n",
       "      <td>3</td>\n",
       "      <td>1/3/1950</td>\n",
       "      <td>11:55:00</td>\n",
       "      <td>3</td>\n",
       "      <td>IL</td>\n",
       "      <td>17</td>\n",
       "      <td>2</td>\n",
       "      <td>...</td>\n",
       "      <td>-89.30</td>\n",
       "      <td>39.12</td>\n",
       "      <td>-89.23</td>\n",
       "      <td>3.6</td>\n",
       "      <td>130</td>\n",
       "      <td>0</td>\n",
       "      <td>Illinois</td>\n",
       "      <td>Illinois</td>\n",
       "      <td>2</td>\n",
       "      <td>3</td>\n",
       "    </tr>\n",
       "    <tr>\n",
       "      <th>2</th>\n",
       "      <td>3</td>\n",
       "      <td>1950</td>\n",
       "      <td>1</td>\n",
       "      <td>3</td>\n",
       "      <td>1/3/1950</td>\n",
       "      <td>16:00:00</td>\n",
       "      <td>3</td>\n",
       "      <td>OH</td>\n",
       "      <td>39</td>\n",
       "      <td>1</td>\n",
       "      <td>...</td>\n",
       "      <td>-84.58</td>\n",
       "      <td>0.00</td>\n",
       "      <td>0.00</td>\n",
       "      <td>0.1</td>\n",
       "      <td>10</td>\n",
       "      <td>0</td>\n",
       "      <td>Ohio</td>\n",
       "      <td>Ohio</td>\n",
       "      <td>1</td>\n",
       "      <td>1</td>\n",
       "    </tr>\n",
       "    <tr>\n",
       "      <th>3</th>\n",
       "      <td>4</td>\n",
       "      <td>1950</td>\n",
       "      <td>1</td>\n",
       "      <td>13</td>\n",
       "      <td>1/13/1950</td>\n",
       "      <td>5:25:00</td>\n",
       "      <td>3</td>\n",
       "      <td>AR</td>\n",
       "      <td>5</td>\n",
       "      <td>1</td>\n",
       "      <td>...</td>\n",
       "      <td>-94.37</td>\n",
       "      <td>0.00</td>\n",
       "      <td>0.00</td>\n",
       "      <td>0.6</td>\n",
       "      <td>17</td>\n",
       "      <td>0</td>\n",
       "      <td>Arkansas</td>\n",
       "      <td>Arkansas</td>\n",
       "      <td>2</td>\n",
       "      <td>2</td>\n",
       "    </tr>\n",
       "    <tr>\n",
       "      <th>4</th>\n",
       "      <td>5</td>\n",
       "      <td>1950</td>\n",
       "      <td>1</td>\n",
       "      <td>25</td>\n",
       "      <td>1/25/1950</td>\n",
       "      <td>19:30:00</td>\n",
       "      <td>3</td>\n",
       "      <td>MO</td>\n",
       "      <td>29</td>\n",
       "      <td>2</td>\n",
       "      <td>...</td>\n",
       "      <td>-90.68</td>\n",
       "      <td>37.63</td>\n",
       "      <td>-90.65</td>\n",
       "      <td>2.3</td>\n",
       "      <td>300</td>\n",
       "      <td>0</td>\n",
       "      <td>Missouri</td>\n",
       "      <td>Missouri</td>\n",
       "      <td>2</td>\n",
       "      <td>5</td>\n",
       "    </tr>\n",
       "  </tbody>\n",
       "</table>\n",
       "<p>5 rows × 26 columns</p>\n",
       "</div>"
      ],
      "text/plain": [
       "   om    yr  mo  dy       date      time  tz  st  stf  stn  ...   slon   elat  \\\n",
       "0   1  1950   1   3   1/3/1950  11:00:00   3  MO   29    1  ... -90.22  38.83   \n",
       "1   2  1950   1   3   1/3/1950  11:55:00   3  IL   17    2  ... -89.30  39.12   \n",
       "2   3  1950   1   3   1/3/1950  16:00:00   3  OH   39    1  ... -84.58   0.00   \n",
       "3   4  1950   1  13  1/13/1950   5:25:00   3  AR    5    1  ... -94.37   0.00   \n",
       "4   5  1950   1  25  1/25/1950  19:30:00   3  MO   29    2  ... -90.68  37.63   \n",
       "\n",
       "    elon  len  wid  fc    StName  StNameAgain  adjusted magnitude  casualty  \n",
       "0 -90.03  9.5  150   0  Missouri     Missouri                   2         3  \n",
       "1 -89.23  3.6  130   0  Illinois     Illinois                   2         3  \n",
       "2   0.00  0.1   10   0      Ohio         Ohio                   1         1  \n",
       "3   0.00  0.6   17   0  Arkansas     Arkansas                   2         2  \n",
       "4 -90.65  2.3  300   0  Missouri     Missouri                   2         5  \n",
       "\n",
       "[5 rows x 26 columns]"
      ]
     },
     "execution_count": 12,
     "metadata": {},
     "output_type": "execute_result"
    }
   ],
   "source": [
    "# Add column totaling injuries and fatalities\n",
    "df_clean[\"casualty\"] = df_clean[\"inj\"] + df_clean[\"fat\"]\n",
    "df_clean.head()"
   ]
  },
  {
   "cell_type": "markdown",
   "metadata": {},
   "source": [
    "# Examine potential inputs"
   ]
  },
  {
   "cell_type": "code",
   "execution_count": 13,
   "metadata": {},
   "outputs": [
    {
     "name": "stdout",
     "output_type": "stream",
     "text": [
      "<class 'pandas.core.frame.DataFrame'>\n",
      "Int64Index: 60114 entries, 0 to 60113\n",
      "Data columns (total 26 columns):\n",
      " #   Column              Non-Null Count  Dtype  \n",
      "---  ------              --------------  -----  \n",
      " 0   om                  60114 non-null  int64  \n",
      " 1   yr                  60114 non-null  int64  \n",
      " 2   mo                  60114 non-null  int64  \n",
      " 3   dy                  60114 non-null  int64  \n",
      " 4   date                60114 non-null  object \n",
      " 5   time                60114 non-null  object \n",
      " 6   tz                  60114 non-null  int64  \n",
      " 7   st                  60114 non-null  object \n",
      " 8   stf                 60114 non-null  int64  \n",
      " 9   stn                 60114 non-null  int64  \n",
      " 10  mag                 60114 non-null  int64  \n",
      " 11  inj                 60114 non-null  int64  \n",
      " 12  fat                 60114 non-null  int64  \n",
      " 13  loss                60114 non-null  float64\n",
      " 14  closs               60114 non-null  float64\n",
      " 15  slat                60114 non-null  float64\n",
      " 16  slon                60114 non-null  float64\n",
      " 17  elat                60114 non-null  float64\n",
      " 18  elon                60114 non-null  float64\n",
      " 19  len                 60114 non-null  float64\n",
      " 20  wid                 60114 non-null  int64  \n",
      " 21  fc                  60114 non-null  int64  \n",
      " 22  StName              60089 non-null  object \n",
      " 23  StNameAgain         60089 non-null  object \n",
      " 24  adjusted magnitude  60114 non-null  int64  \n",
      " 25  casualty            60114 non-null  int64  \n",
      "dtypes: float64(7), int64(14), object(5)\n",
      "memory usage: 12.4+ MB\n"
     ]
    }
   ],
   "source": [
    "df_clean.info()"
   ]
  },
  {
   "cell_type": "code",
   "execution_count": 14,
   "metadata": {},
   "outputs": [
    {
     "data": {
      "text/plain": [
       "<matplotlib.collections.PathCollection at 0x7f8f180e6af0>"
      ]
     },
     "execution_count": 14,
     "metadata": {},
     "output_type": "execute_result"
    },
    {
     "data": {
      "image/png": "[encoded data removed]",
      "text/plain": [
       "<Figure size 432x288 with 1 Axes>"
      ]
     },
     "metadata": {
      "needs_background": "light"
     },
     "output_type": "display_data"
    }
   ],
   "source": [
    "# scatter plot vs month - no trend - drop month\n",
    "plt.scatter(df_clean[\"adjusted magnitude\"], df_clean[\"mo\"])"
   ]
  },
  {
   "cell_type": "code",
   "execution_count": 15,
   "metadata": {},
   "outputs": [
    {
     "data": {
      "text/plain": [
       "<matplotlib.collections.PathCollection at 0x7f8f496cf3a0>"
      ]
     },
     "execution_count": 15,
     "metadata": {},
     "output_type": "execute_result"
    },
    {
     "data": {
      "image/png": "[encoded data removed]",
      "text/plain": [
       "<Figure size 432x288 with 1 Axes>"
      ]
     },
     "metadata": {
      "needs_background": "light"
     },
     "output_type": "display_data"
    }
   ],
   "source": [
    "# scatter plot vs length - positive trend\n",
    "plt.scatter(df_clean[\"adjusted magnitude\"], df_clean[\"len\"])"
   ]
  },
  {
   "cell_type": "code",
   "execution_count": 16,
   "metadata": {},
   "outputs": [
    {
     "data": {
      "text/plain": [
       "<matplotlib.collections.PathCollection at 0x7f8f496e0790>"
      ]
     },
     "execution_count": 16,
     "metadata": {},
     "output_type": "execute_result"
    },
    {
     "data": {
      "image/png": "[encoded data removed]",
      "text/plain": [
       "<Figure size 432x288 with 1 Axes>"
      ]
     },
     "metadata": {
      "needs_background": "light"
     },
     "output_type": "display_data"
    }
   ],
   "source": [
    "# scatter plot vs width - positive trend\n",
    "plt.scatter(df_clean[\"adjusted magnitude\"], df_clean[\"wid\"])"
   ]
  },
  {
   "cell_type": "code",
   "execution_count": 17,
   "metadata": {},
   "outputs": [
    {
     "data": {
      "text/plain": [
       "<matplotlib.collections.PathCollection at 0x7f8f49700250>"
      ]
     },
     "execution_count": 17,
     "metadata": {},
     "output_type": "execute_result"
    },
    {
     "data": {
      "image/png": "[encoded data removed]",
      "text/plain": [
       "<Figure size 432x288 with 1 Axes>"
      ]
     },
     "metadata": {
      "needs_background": "light"
     },
     "output_type": "display_data"
    }
   ],
   "source": [
    "# scatter plot vs latitude - weak negative trend\n",
    "plt.scatter(df_clean[\"adjusted magnitude\"], df_clean[\"slat\"])"
   ]
  },
  {
   "cell_type": "code",
   "execution_count": 18,
   "metadata": {},
   "outputs": [
    {
     "data": {
      "text/plain": [
       "<matplotlib.collections.PathCollection at 0x7f8f68e9e400>"
      ]
     },
     "execution_count": 18,
     "metadata": {},
     "output_type": "execute_result"
    },
    {
     "data": {
      "image/png": "[encoded data removed]",
      "text/plain": [
       "<Figure size 432x288 with 1 Axes>"
      ]
     },
     "metadata": {
      "needs_background": "light"
     },
     "output_type": "display_data"
    }
   ],
   "source": [
    "# scatter plot vs longitude - weak reverse trend\n",
    "plt.scatter(df_clean[\"adjusted magnitude\"], df_clean[\"slon\"])"
   ]
  },
  {
   "cell_type": "code",
   "execution_count": 19,
   "metadata": {},
   "outputs": [
    {
     "data": {
      "text/plain": [
       "<matplotlib.collections.PathCollection at 0x7f8f5b54f6a0>"
      ]
     },
     "execution_count": 19,
     "metadata": {},
     "output_type": "execute_result"
    },
    {
     "data": {
      "image/png": "[encoded data removed]",
      "text/plain": [
       "<Figure size 432x288 with 1 Axes>"
      ]
     },
     "metadata": {
      "needs_background": "light"
     },
     "output_type": "display_data"
    }
   ],
   "source": [
    "# scatter plot vs loss - positive trend\n",
    "plt.scatter(df_clean[\"adjusted magnitude\"], df_clean[\"loss\"])"
   ]
  },
  {
   "cell_type": "code",
   "execution_count": 20,
   "metadata": {},
   "outputs": [
    {
     "data": {
      "text/plain": [
       "<matplotlib.collections.PathCollection at 0x7f8f5b5685e0>"
      ]
     },
     "execution_count": 20,
     "metadata": {},
     "output_type": "execute_result"
    },
    {
     "data": {
      "image/png": "[encoded data removed]",
      "text/plain": [
       "<Figure size 432x288 with 1 Axes>"
      ]
     },
     "metadata": {
      "needs_background": "light"
     },
     "output_type": "display_data"
    }
   ],
   "source": [
    "# scatter plot vs casualty - positive trend\n",
    "plt.scatter(df_clean[\"adjusted magnitude\"], df_clean[\"loss\"])"
   ]
  },
  {
   "cell_type": "code",
   "execution_count": 21,
   "metadata": {},
   "outputs": [
    {
     "data": {
      "image/png": "[encoded data removed]",
      "text/plain": [
       "<Figure size 432x288 with 1 Axes>"
      ]
     },
     "metadata": {
      "needs_background": "light"
     },
     "output_type": "display_data"
    }
   ],
   "source": [
    "df_clean[\"len\"].hist(bins=20, figsize=(6,4))\n",
    "plt.title(\"Tornado length distribution\")\n",
    "plt.xlabel(\"Tornado length in miles\")\n",
    "plt.ylabel(\"Tornado count\")\n",
    "plt.show()"
   ]
  },
  {
   "cell_type": "code",
   "execution_count": 22,
   "metadata": {},
   "outputs": [
    {
     "data": {
      "image/png": "[encoded data removed]",
      "text/plain": [
       "<Figure size 432x288 with 1 Axes>"
      ]
     },
     "metadata": {
      "needs_background": "light"
     },
     "output_type": "display_data"
    }
   ],
   "source": [
    "df_clean[\"wid\"].hist(bins=20, figsize=(6,4))\n",
    "plt.title(\"Tornado width distribution\")\n",
    "plt.xlabel(\"Tornado width in feet\")\n",
    "plt.ylabel(\"Tornado count\")\n",
    "plt.show()"
   ]
  },
  {
   "cell_type": "code",
   "execution_count": 23,
   "metadata": {},
   "outputs": [
    {
     "data": {
      "text/plain": [
       "adjusted magnitude\n",
       "0    1.020364\n",
       "1    3.197955\n",
       "2    9.705043\n",
       "Name: len, dtype: float64"
      ]
     },
     "execution_count": 23,
     "metadata": {},
     "output_type": "execute_result"
    }
   ],
   "source": [
    "# Average length by magnitude\n",
    "\n",
    "groupEFscale = df_clean.groupby(by='adjusted magnitude')\n",
    "groupEFscale['len'].mean()\n"
   ]
  },
  {
   "cell_type": "code",
   "execution_count": 24,
   "metadata": {},
   "outputs": [
    {
     "data": {
      "text/plain": [
       "adjusted magnitude\n",
       "0     41.561379\n",
       "1     95.522922\n",
       "2    236.287375\n",
       "Name: wid, dtype: float64"
      ]
     },
     "execution_count": 24,
     "metadata": {},
     "output_type": "execute_result"
    }
   ],
   "source": [
    "# Average width by magnitude\n",
    "\n",
    "groupEFscale['wid'].mean()"
   ]
  },
  {
   "cell_type": "code",
   "execution_count": 25,
   "metadata": {},
   "outputs": [
    {
     "data": {
      "text/plain": [
       "adjusted magnitude\n",
       "0    0.575817\n",
       "1    2.332495\n",
       "2    5.564819\n",
       "Name: loss, dtype: float64"
      ]
     },
     "execution_count": 25,
     "metadata": {},
     "output_type": "execute_result"
    }
   ],
   "source": [
    "# Average loss by mag\n",
    "\n",
    "groupEFscale['loss'].mean()"
   ]
  },
  {
   "cell_type": "code",
   "execution_count": 26,
   "metadata": {},
   "outputs": [
    {
     "data": {
      "image/png": "[encoded data removed]",
      "text/plain": [
       "<Figure size 432x288 with 1 Axes>"
      ]
     },
     "metadata": {
      "needs_background": "light"
     },
     "output_type": "display_data"
    }
   ],
   "source": [
    "df_clean[\"loss\"].hist(bins=20, figsize=(6,4))\n",
    "plt.title(\"Tornado financial loss distribution\")\n",
    "plt.xlabel(\"Loss\")\n",
    "plt.ylabel(\"Tornado count\")\n",
    "plt.show()"
   ]
  },
  {
   "cell_type": "code",
   "execution_count": 27,
   "metadata": {},
   "outputs": [
    {
     "data": {
      "text/plain": [
       "adjusted magnitude\n",
       "0    0.029857\n",
       "1    0.355126\n",
       "2    7.664214\n",
       "Name: casualty, dtype: float64"
      ]
     },
     "execution_count": 27,
     "metadata": {},
     "output_type": "execute_result"
    }
   ],
   "source": [
    "# Average casualty by mag\n",
    "\n",
    "groupEFscale['casualty'].mean()"
   ]
  },
  {
   "cell_type": "code",
   "execution_count": 28,
   "metadata": {},
   "outputs": [
    {
     "data": {
      "image/png": "[encoded data removed]",
      "text/plain": [
       "<Figure size 432x288 with 1 Axes>"
      ]
     },
     "metadata": {
      "needs_background": "light"
     },
     "output_type": "display_data"
    }
   ],
   "source": [
    "df_clean[\"casualty\"].hist(bins=20, figsize=(6,4))\n",
    "plt.title(\"Tornado casualty distribution\")\n",
    "plt.xlabel(\"Casualty\")\n",
    "plt.ylabel(\"Tornado count\")\n",
    "plt.show()"
   ]
  },
  {
   "cell_type": "markdown",
   "metadata": {},
   "source": [
    "# Final cleaning and preparing test and training splits"
   ]
  },
  {
   "cell_type": "code",
   "execution_count": 29,
   "metadata": {},
   "outputs": [
    {
     "data": {
      "text/html": [
       "<div>\n",
       "<style scoped>\n",
       "    .dataframe tbody tr th:only-of-type {\n",
       "        vertical-align: middle;\n",
       "    }\n",
       "\n",
       "    .dataframe tbody tr th {\n",
       "        vertical-align: top;\n",
       "    }\n",
       "\n",
       "    .dataframe thead th {\n",
       "        text-align: right;\n",
       "    }\n",
       "</style>\n",
       "<table border=\"1\" class=\"dataframe\">\n",
       "  <thead>\n",
       "    <tr style=\"text-align: right;\">\n",
       "      <th></th>\n",
       "      <th>mo</th>\n",
       "      <th>len</th>\n",
       "      <th>wid</th>\n",
       "      <th>slat</th>\n",
       "      <th>slon</th>\n",
       "      <th>loss</th>\n",
       "      <th>casualty</th>\n",
       "      <th>adjusted magnitude</th>\n",
       "    </tr>\n",
       "  </thead>\n",
       "  <tbody>\n",
       "    <tr>\n",
       "      <th>0</th>\n",
       "      <td>1</td>\n",
       "      <td>9.5</td>\n",
       "      <td>150</td>\n",
       "      <td>38.77</td>\n",
       "      <td>-90.22</td>\n",
       "      <td>6.0</td>\n",
       "      <td>3</td>\n",
       "      <td>2</td>\n",
       "    </tr>\n",
       "    <tr>\n",
       "      <th>1</th>\n",
       "      <td>1</td>\n",
       "      <td>3.6</td>\n",
       "      <td>130</td>\n",
       "      <td>39.10</td>\n",
       "      <td>-89.30</td>\n",
       "      <td>5.0</td>\n",
       "      <td>3</td>\n",
       "      <td>2</td>\n",
       "    </tr>\n",
       "    <tr>\n",
       "      <th>2</th>\n",
       "      <td>1</td>\n",
       "      <td>0.1</td>\n",
       "      <td>10</td>\n",
       "      <td>40.88</td>\n",
       "      <td>-84.58</td>\n",
       "      <td>4.0</td>\n",
       "      <td>1</td>\n",
       "      <td>1</td>\n",
       "    </tr>\n",
       "    <tr>\n",
       "      <th>3</th>\n",
       "      <td>1</td>\n",
       "      <td>0.6</td>\n",
       "      <td>17</td>\n",
       "      <td>34.40</td>\n",
       "      <td>-94.37</td>\n",
       "      <td>3.0</td>\n",
       "      <td>2</td>\n",
       "      <td>2</td>\n",
       "    </tr>\n",
       "    <tr>\n",
       "      <th>4</th>\n",
       "      <td>1</td>\n",
       "      <td>2.3</td>\n",
       "      <td>300</td>\n",
       "      <td>37.60</td>\n",
       "      <td>-90.68</td>\n",
       "      <td>5.0</td>\n",
       "      <td>5</td>\n",
       "      <td>2</td>\n",
       "    </tr>\n",
       "  </tbody>\n",
       "</table>\n",
       "</div>"
      ],
      "text/plain": [
       "   mo  len  wid   slat   slon  loss  casualty  adjusted magnitude\n",
       "0   1  9.5  150  38.77 -90.22   6.0         3                   2\n",
       "1   1  3.6  130  39.10 -89.30   5.0         3                   2\n",
       "2   1  0.1   10  40.88 -84.58   4.0         1                   1\n",
       "3   1  0.6   17  34.40 -94.37   3.0         2                   2\n",
       "4   1  2.3  300  37.60 -90.68   5.0         5                   2"
      ]
     },
     "execution_count": 29,
     "metadata": {},
     "output_type": "execute_result"
    }
   ],
   "source": [
    "df4 = df_clean[[\"mo\",\"len\", \"wid\", \"slat\", \"slon\", \"loss\", \"casualty\", \"adjusted magnitude\"]]\n",
    "# df4.to_csv('tornado.csv', index = False, header=True)\n",
    "df4.head()"
   ]
  },
  {
   "cell_type": "code",
   "execution_count": 30,
   "metadata": {},
   "outputs": [
    {
     "name": "stderr",
     "output_type": "stream",
     "text": [
      "/Users/seltsam/opt/anaconda3/lib/python3.8/site-packages/seaborn/_decorators.py:36: FutureWarning: Pass the following variable as a keyword arg: x. From version 0.12, the only valid positional argument will be `data`, and passing other arguments without an explicit keyword will result in an error or misinterpretation.\n",
      "  warnings.warn(\n"
     ]
    },
    {
     "data": {
      "image/png": "[encoded data removed]",
      "text/plain": [
       "<Figure size 432x288 with 1 Axes>"
      ]
     },
     "metadata": {
      "needs_background": "light"
     },
     "output_type": "display_data"
    }
   ],
   "source": [
    "\n",
    "sns.countplot(df4[\"adjusted magnitude\"], label=\"Count\")\n",
    "plt.show()"
   ]
  },
  {
   "cell_type": "code",
   "execution_count": 31,
   "metadata": {},
   "outputs": [
    {
     "data": {
      "text/plain": [
       "0        2\n",
       "1        2\n",
       "2        1\n",
       "3        2\n",
       "4        2\n",
       "        ..\n",
       "60109    1\n",
       "60110    2\n",
       "60111    1\n",
       "60112    1\n",
       "60113    0\n",
       "Name: adjusted magnitude, Length: 60114, dtype: int64"
      ]
     },
     "execution_count": 31,
     "metadata": {},
     "output_type": "execute_result"
    }
   ],
   "source": [
    "feature_names = [\"len\", \"wid\", \"slat\", \"slon\", \"loss\", \"casualty\"]\n",
    "X = df4[feature_names]\n",
    "y = df4['adjusted magnitude']\n",
    "y"
   ]
  },
  {
   "cell_type": "code",
   "execution_count": 32,
   "metadata": {},
   "outputs": [],
   "source": [
    "from sklearn.model_selection import train_test_split\n",
    "\n",
    "X_train, X_test, y_train, y_test = train_test_split(X, y, random_state=0)"
   ]
  },
  {
   "cell_type": "code",
   "execution_count": 33,
   "metadata": {},
   "outputs": [],
   "source": [
    "from sklearn.preprocessing import MinMaxScaler\n",
    "scaler = MinMaxScaler()\n",
    "X_train_scaled = scaler.fit_transform(X_train)\n",
    "X_test_scaled = scaler.transform(X_test)"
   ]
  },
  {
   "cell_type": "markdown",
   "metadata": {},
   "source": [
    "# Summary of models\n",
    "\n",
    "```\n",
    "Inputs: \n",
    "length, width, latitude, longitude, financial loss, causalties\n",
    "\n",
    "Potential:\n",
    "Decision Tree max depth 5 - moderate training, high testing \n",
    "Random Forest - possible overfitting problem (high training), but also high testing\n",
    "\n",
    "Rejected:\n",
    "Logistic Regression - data is not linear\n",
    "Decision Tree - overfitting (high on training, low on testing)\n",
    "K-nearest neighbor - low on testing\n",
    "Linear Discriminant Analysis - data is not linear, low on training and testing\n",
    "Gaussian Naive Bayes - low on testing and training\n",
    "Support Vector Machine - low on testing and training\n",
    "```"
   ]
  },
  {
   "cell_type": "code",
   "execution_count": 34,
   "metadata": {},
   "outputs": [
    {
     "name": "stdout",
     "output_type": "stream",
     "text": [
      "Accuracy of logistic regression on training 0.5833869357879561\n",
      "Accuracy of logistic regression on testing 0.5849357908044447\n"
     ]
    },
    {
     "name": "stderr",
     "output_type": "stream",
     "text": [
      "/Users/seltsam/opt/anaconda3/lib/python3.8/site-packages/sklearn/linear_model/_logistic.py:762: ConvergenceWarning: lbfgs failed to converge (status=1):\n",
      "STOP: TOTAL NO. of ITERATIONS REACHED LIMIT.\n",
      "\n",
      "Increase the number of iterations (max_iter) or scale the data as shown in:\n",
      "    https://scikit-learn.org/stable/modules/preprocessing.html\n",
      "Please also refer to the documentation for alternative solver options:\n",
      "    https://scikit-learn.org/stable/modules/linear_model.html#logistic-regression\n",
      "  n_iter_i = _check_optimize_result(\n"
     ]
    }
   ],
   "source": [
    "## Logistic Regression\n",
    "\n",
    "# Our data is not linear - Reject model\n",
    "\n",
    "from sklearn.linear_model import LogisticRegression\n",
    "logreg = LogisticRegression()\n",
    "logreg.fit(X_train_scaled, y_train)\n",
    "\n",
    "print('Accuracy of logistic regression on training', logreg.score(X_train_scaled, y_train))\n",
    "print('Accuracy of logistic regression on testing', logreg.score(X_test_scaled, y_test))"
   ]
  },
  {
   "cell_type": "code",
   "execution_count": 35,
   "metadata": {},
   "outputs": [
    {
     "name": "stdout",
     "output_type": "stream",
     "text": [
      "Accuracy of Decision tree on training 0.9992236885882222\n",
      "Accuracy of Decision tree on testing 0.6260562911704038\n"
     ]
    }
   ],
   "source": [
    "## Decision Tree - \n",
    "\n",
    "# high on training low on testing shows problem of overfitting - reject model\n",
    "\n",
    "from sklearn.tree import DecisionTreeClassifier\n",
    "dt = DecisionTreeClassifier()\n",
    "dt.fit(X_train_scaled, y_train)\n",
    "\n",
    "print('Accuracy of Decision tree on training', dt.score(X_train_scaled, y_train))\n",
    "print('Accuracy of Decision tree on testing', dt.score(X_test_scaled, y_test))"
   ]
  },
  {
   "cell_type": "code",
   "execution_count": 36,
   "metadata": {},
   "outputs": [
    {
     "name": "stdout",
     "output_type": "stream",
     "text": [
      "Accuracy of Decision tree on training 0.6430076522124876\n",
      "Accuracy of Decision tree on testing 0.6404285048905449\n"
     ]
    }
   ],
   "source": [
    "# Setting max decision tree depth to help avoid overfitting\n",
    "\n",
    "# Improved over previous - additional depth may improve\n",
    "\n",
    "dt2 = DecisionTreeClassifier(max_depth=3)\n",
    "dt2.fit(X_train_scaled, y_train)\n",
    "print('Accuracy of Decision tree on training', dt2.score(X_train_scaled, y_train))\n",
    "print('Accuracy of Decision tree on testing', dt2.score(X_test_scaled, y_test))"
   ]
  },
  {
   "cell_type": "code",
   "execution_count": 45,
   "metadata": {},
   "outputs": [
    {
     "name": "stdout",
     "output_type": "stream",
     "text": [
      "Accuracy of Decision tree on training 0.6821781080181879\n",
      "Accuracy of Decision tree on testing 0.682014771441879\n"
     ]
    }
   ],
   "source": [
    "# Decision tree - max depth 5\n",
    "\n",
    "# Improved over previous - potential model\n",
    "\n",
    "dt2 = DecisionTreeClassifier(max_depth=5)\n",
    "dt2.fit(X_train_scaled, y_train)\n",
    "print('Accuracy of Decision tree on training', dt2.score(X_train_scaled, y_train))\n",
    "print('Accuracy of Decision tree on testing', dt2.score(X_test_scaled, y_test))"
   ]
  },
  {
   "cell_type": "code",
   "execution_count": 44,
   "metadata": {},
   "outputs": [
    {
     "name": "stdout",
     "output_type": "stream",
     "text": [
      "Accuracy of Knn on training 0.7030941554840856\n",
      "Accuracy of Knn on testing 0.5912569033202475\n"
     ]
    }
   ],
   "source": [
    "# K-nearest neighbor \n",
    "\n",
    "# Low on testing - rejected\n",
    "\n",
    "from sklearn.neighbors import KNeighborsClassifier\n",
    "knn = KNeighborsClassifier()\n",
    "knn.fit(X_train_scaled, y_train)\n",
    "print('Accuracy of Knn on training', knn.score(X_train_scaled, y_train))\n",
    "print('Accuracy of Knn on testing', knn.score(X_test_scaled, y_test))"
   ]
  },
  {
   "cell_type": "code",
   "execution_count": 38,
   "metadata": {},
   "outputs": [
    {
     "name": "stdout",
     "output_type": "stream",
     "text": [
      "Accuracy of Knn on training 0.5429965620494621\n",
      "Accuracy of Knn on testing 0.5493379466365028\n"
     ]
    }
   ],
   "source": [
    "# Linear Discriminant Analysis \n",
    "\n",
    "# Our data is not linear, low on training and testing - rejected\n",
    "\n",
    "from sklearn.discriminant_analysis import LinearDiscriminantAnalysis\n",
    "lda = LinearDiscriminantAnalysis()\n",
    "lda.fit(X_train_scaled,y_train)\n",
    "print('Accuracy of Knn on training', lda.score(X_train_scaled, y_train))\n",
    "print('Accuracy of Knn on testing', lda.score(X_test_scaled, y_test))"
   ]
  },
  {
   "cell_type": "code",
   "execution_count": 39,
   "metadata": {},
   "outputs": [
    {
     "name": "stdout",
     "output_type": "stream",
     "text": [
      "Accuracy of GNB on training 0.5878451813241654\n",
      "Accuracy of GNB on testing 0.5912569033202475\n"
     ]
    }
   ],
   "source": [
    "# Gaussian Naive Bayes \n",
    "\n",
    "# low on testing and training - rejected\n",
    "\n",
    "from sklearn.naive_bayes import GaussianNB\n",
    "gnb = GaussianNB()\n",
    "gnb.fit(X_train_scaled, y_train)\n",
    "print('Accuracy of GNB on training', gnb.score(X_train_scaled, y_train))\n",
    "print('Accuracy of GNB on testing', gnb.score(X_test_scaled, y_test))"
   ]
  },
  {
   "cell_type": "code",
   "execution_count": 40,
   "metadata": {},
   "outputs": [
    {
     "name": "stdout",
     "output_type": "stream",
     "text": [
      "Accuracy of SVM on training 0.5817455916601975\n",
      "Accuracy of SVM on testing 0.5833388781688735\n"
     ]
    }
   ],
   "source": [
    "# Support Vector Machine\n",
    "\n",
    "# low on testing and training - rejected\n",
    "\n",
    "from sklearn.svm import SVC\n",
    "svm = SVC()\n",
    "svm.fit(X_train_scaled, y_train)\n",
    "print('Accuracy of SVM on training', svm.score(X_train_scaled, y_train))\n",
    "print('Accuracy of SVM on testing', svm.score(X_test_scaled, y_test))"
   ]
  },
  {
   "cell_type": "code",
   "execution_count": 41,
   "metadata": {},
   "outputs": [
    {
     "name": "stdout",
     "output_type": "stream",
     "text": [
      "Accuracy of Random Forest on training 0.9992236885882222\n",
      "Accuracy of Random Forest on testing 0.7009781089892874\n"
     ]
    }
   ],
   "source": [
    "# Random Forest\n",
    "\n",
    "# Possible verfitting problem, but high testing - potential\n",
    "\n",
    "from sklearn.ensemble import RandomForestClassifier\n",
    "\n",
    "# Create a random forest classifier\n",
    "\n",
    "rf = RandomForestClassifier(n_estimators=200)\n",
    "rf = rf.fit(X_train_scaled, y_train)\n",
    "\n",
    "print('Accuracy of Random Forest on training', rf.score(X_train_scaled, y_train))\n",
    "print('Accuracy of Random Forest on testing', rf.score(X_test_scaled, y_test))"
   ]
  },
  {
   "cell_type": "code",
   "execution_count": null,
   "metadata": {},
   "outputs": [],
   "source": []
  },
  {
   "cell_type": "code",
   "execution_count": null,
   "metadata": {},
   "outputs": [],
   "source": [
    "import pickle"
   ]
  },
  {
   "cell_type": "code",
   "execution_count": null,
   "metadata": {},
   "outputs": [],
   "source": [
    "pickle.dump(logreg, open('model.pkl','wb'))"
   ]
  },
  {
   "cell_type": "code",
   "execution_count": null,
   "metadata": {},
   "outputs": [],
   "source": [
    "# Loading model to compare the results\n",
    "model = pickle.load( open('model.pkl','rb'))\n",
    "print(model.predict([[1,0.53,15,36.73,-119.86]]))\n",
    "# print(model.predict([[1,5.75,40,34.70,-90.92]]))\n",
    "# print(model.predict([[12,0.60,150,30.08,-90.54]]))\n"
   ]
  },
  {
   "cell_type": "code",
   "execution_count": null,
   "metadata": {},
   "outputs": [],
   "source": []
  },
  {
   "cell_type": "code",
   "execution_count": null,
   "metadata": {},
   "outputs": [],
   "source": [
    "## convert to geo data for mapping\n",
    "\n",
    "from geojson import Feature, FeatureCollection, Point\n",
    "\n",
    "features = new_df.apply(\n",
    "    lambda row: Feature(geometry=Point((float(row['slon']), float(row['slat'])))),\n",
    "    axis=1).tolist()\n",
    "\n",
    "# all the other columns used as properties\n",
    "properties = new_df.drop(['slon', 'slat'], axis=1).to_dict('records')\n",
    "\n",
    "# whole geojson object\n",
    "feature_collection = FeatureCollection(features=features, properties=properties)\n",
    "feature_collection"
   ]
  },
  {
   "cell_type": "code",
   "execution_count": null,
   "metadata": {},
   "outputs": [],
   "source": []
  },
  {
   "cell_type": "code",
   "execution_count": null,
   "metadata": {},
   "outputs": [],
   "source": [
    "## convert to geo data for mapping\n",
    "\n",
    "from geojson import Feature, FeatureCollection, Point\n",
    "\n",
    "features = new_df.apply(\n",
    "    lambda row: Feature(geometry=Point((float(row['slon']), float(row['slat'])))),\n",
    "    axis=1).tolist()\n",
    "\n",
    "# all the other columns used as properties\n",
    "properties = new_df.drop(['slon', 'slat'], axis=1).to_dict('records')\n",
    "\n",
    "# whole geojson object\n",
    "feature_collection = FeatureCollection(features=features, properties=properties)\n",
    "feature_collection"
   ]
  },
  {
   "cell_type": "code",
   "execution_count": null,
   "metadata": {},
   "outputs": [],
   "source": []
  },
  {
   "cell_type": "code",
   "execution_count": null,
   "metadata": {},
   "outputs": [],
   "source": [
    "df_groups = df3.groupby(['st']).sum()"
   ]
  },
  {
   "cell_type": "code",
   "execution_count": null,
   "metadata": {},
   "outputs": [],
   "source": [
    "df_groups = df_groups.drop(columns=['yr','mag','closs','len','wid','slat','slon'])\n"
   ]
  },
  {
   "cell_type": "code",
   "execution_count": null,
   "metadata": {},
   "outputs": [],
   "source": [
    "df_groups.sort_values(by=\"fat\", ascending=False)\n",
    "df_groups"
   ]
  },
  {
   "cell_type": "code",
   "execution_count": null,
   "metadata": {},
   "outputs": [],
   "source": []
  },
  {
   "cell_type": "code",
   "execution_count": null,
   "metadata": {},
   "outputs": [],
   "source": [
    "def df_to_geojson(df3, properties, lat='slat', lon='slon'):\n",
    "    # create a new python dict to contain our geojson data, using geojson format\n",
    "    geojson = {'type':'FeatureCollection', 'features':[]}\n",
    "    # loop through each row in the dataframe and convert each row to geojson format\n",
    "    for _, row in df3.iterrows():\n",
    "        # create a feature template to fill in\n",
    "        feature = {'type':'Feature',\n",
    "                   'properties':{},\n",
    "                   'geometry':{'type':'Point',\n",
    "                               'coordinates':[]}}\n",
    "        # fill in the coordinates\n",
    "        feature['geometry']['coordinates'] = [row[lon],row[lat]]\n",
    "        # for each column, get the value and add it as a new feature property\n",
    "        for prop in properties:\n",
    "            feature['properties'][prop] = row[prop]\n",
    "        # add this feature (aka, converted dataframe row) to the list of features inside our dict\n",
    "        geojson['features'].append(feature)\n",
    "    return geojson"
   ]
  },
  {
   "cell_type": "code",
   "execution_count": null,
   "metadata": {},
   "outputs": [],
   "source": [
    "cols = [\n",
    "'yr',\n",
    "'date',\n",
    "'st',\n",
    "'StName',\n",
    "'mag',\n",
    "'inj',\n",
    "'fat',\n",
    "'loss',\n",
    "'closs',\n",
    "'len',\n",
    "'wid',\n",
    "'slat',\n",
    "'slon',\n",
    "'location'\n",
    "]\n",
    "geojson = df_to_geojson(df3, cols)"
   ]
  },
  {
   "cell_type": "code",
   "execution_count": null,
   "metadata": {},
   "outputs": [],
   "source": [
    "import IPython\n",
    "IPython.display.display({'application/geo+json': geojson}, raw=True)"
   ]
  },
  {
   "cell_type": "code",
   "execution_count": null,
   "metadata": {},
   "outputs": [],
   "source": [
    "geojson"
   ]
  },
  {
   "cell_type": "code",
   "execution_count": null,
   "metadata": {},
   "outputs": [],
   "source": []
  }
 ],
 "metadata": {
  "kernelspec": {
   "display_name": "Python 3",
   "language": "python",
   "name": "python3"
  },
  "language_info": {
   "codemirror_mode": {
    "name": "ipython",
    "version": 3
   },
   "file_extension": ".py",
   "mimetype": "text/x-python",
   "name": "python",
   "nbconvert_exporter": "python",
   "pygments_lexer": "ipython3",
   "version": "3.8.5"
  }
 },
 "nbformat": 4,
 "nbformat_minor": 4
}
